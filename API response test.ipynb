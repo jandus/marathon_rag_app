{
 "cells": [
  {
   "cell_type": "code",
   "execution_count": null,
   "metadata": {},
   "outputs": [],
   "source": [
    "import requests"
   ]
  },
  {
   "cell_type": "code",
   "execution_count": null,
   "metadata": {},
   "outputs": [],
   "source": [
    "def get_question_response(question: str, url: str):\n",
    "    \"\"\"\n",
    "    Send a question to the API and return the response.\n",
    "\n",
    "    Args:\n",
    "    - question (str): The question to send to the API.\n",
    "    - url (str)     : Url of the API.\n",
    "\n",
    "    Returns:\n",
    "    - dict: The response from the API.\n",
    "    \"\"\"\n",
    "\n",
    "    data = {\"question\": question}\n",
    "    response = requests.get(url, json=data)\n",
    "\n",
    "    if response.status_code == 200:\n",
    "        return response.json()\n",
    "    else:\n",
    "        return {\"error\": response.status_code}"
   ]
  },
  {
   "cell_type": "code",
   "execution_count": null,
   "metadata": {},
   "outputs": [],
   "source": [
    "\n",
    "# Example\n",
    "question = \"who won boston marathon 2015?; did that person run a negative split?; What was this person overall time and 5k time?\"\n",
    "response = get_question_response(question, \"http://localhost:8000/get_question/\")\n",
    "print(\"Response from API:\")\n",
    "print(response)\n"
   ]
  }
 ],
 "metadata": {
  "kernelspec": {
   "display_name": ".venv",
   "language": "python",
   "name": "python3"
  },
  "language_info": {
   "codemirror_mode": {
    "name": "ipython",
    "version": 3
   },
   "file_extension": ".py",
   "mimetype": "text/x-python",
   "name": "python",
   "nbconvert_exporter": "python",
   "pygments_lexer": "ipython3",
   "version": "3.10.8"
  }
 },
 "nbformat": 4,
 "nbformat_minor": 2
}
